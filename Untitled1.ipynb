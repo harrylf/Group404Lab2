{
 "cells": [
  {
   "cell_type": "code",
   "execution_count": null,
   "metadata": {
    "collapsed": false
   },
   "outputs": [],
   "source": [
    "import pyaudio\n",
    "import opus\n",
    "\n",
    "def streaming(p):\n",
    "    chunk = 960\n",
    "    FORMAT = pyaudio.paInt16\n",
    "    CHANNELS = 1\n",
    "    RATE = 48000\n",
    "    streamin = p.open(format = FORMAT,\n",
    "            channels = CHANNELS, \n",
    "            rate = RATE, \n",
    "            input = True,\n",
    "            input_device_index = 7,\n",
    "            frames_per_buffer = chunk)\n",
    "    streamout = p.open(format = FORMAT,\n",
    "            channels = CHANNELS, \n",
    "            rate = 48000, \n",
    "            output = True,\n",
    "            output_device_index = p.get_default_input_device_info()[\"index\"],\n",
    "            frames_per_buffer = chunk)\n",
    "    enc = encoder.Encoder(RATE,CHANNELS,'voip')\n",
    "    dec = decoder.Decoder(RATE,CHANNELS)\n",
    "    data = []\n",
    "    for i in xrange(100):\n",
    "        data.append(streamin.read(chunk*2))\n",
    "    streamout.write(''.join(data))\n",
    "    encdata = []\n",
    "    for x in data:\n",
    "        encdata.append(enc.encode(x,chunk))\n",
    "    decdata = ''\n",
    "    for x in encdata:\n",
    "        decdata += dec.decode(x,chunk)\n",
    "    streamout.write(decdata)\n",
    "    streamin.close()\n",
    "    streamout.close()\n",
    "\n",
    "\n",
    "p = pyaudio.PyAudio()\n",
    "streaming(p)\n",
    "p.terminate()"
   ]
  }
 ],
 "metadata": {
  "anaconda-cloud": {},
  "kernelspec": {
   "display_name": "Python [default]",
   "language": "python",
   "name": "python3"
  },
  "language_info": {
   "codemirror_mode": {
    "name": "ipython",
    "version": 3
   },
   "file_extension": ".py",
   "mimetype": "text/x-python",
   "name": "python",
   "nbconvert_exporter": "python",
   "pygments_lexer": "ipython3",
   "version": "3.5.2"
  }
 },
 "nbformat": 4,
 "nbformat_minor": 2
}
