{
 "cells": [
  {
   "cell_type": "code",
   "execution_count": 17,
   "metadata": {
    "collapsed": false
   },
   "outputs": [
    {
     "ename": "SyntaxError",
     "evalue": "invalid syntax (<ipython-input-17-bf53c0bd79fa>, line 25)",
     "output_type": "error",
     "traceback": [
      "\u001b[0;36m  File \u001b[0;32m\"<ipython-input-17-bf53c0bd79fa>\"\u001b[0;36m, line \u001b[0;32m25\u001b[0m\n\u001b[0;31m    except socket.error, msg:\u001b[0m\n\u001b[0m                       ^\u001b[0m\n\u001b[0;31mSyntaxError\u001b[0m\u001b[0;31m:\u001b[0m invalid syntax\n"
     ]
    }
   ],
   "source": [
    "import socket   #for sockets\n",
    "import sys  #for exit\n",
    " \n",
    "# create dgram udp socket\n",
    "s = socket.socket(socket.AF_INET, socket.SOCK_DGRAM)\n",
    "\n",
    " \n",
    "host = 'localhost';\n",
    "port = 8888;\n",
    " \n",
    "while(1) :\n",
    "    msg = raw_input('Enter message to send : ')\n",
    "     \n",
    "    try :\n",
    "        #Set the whole string\n",
    "        s.sendto(msg, (host, port))\n",
    "         \n",
    "        # receive data from client (data, addr)\n",
    "        d = s.recvfrom(1024)\n",
    "        reply = d[0]\n",
    "        addr = d[1]\n",
    "         \n",
    "        print ('Server reply : ' + reply)\n",
    "     \n",
    "    except socket.error, msg:\n",
    "        print ('Error Code : ' + str(msg[0]) + ' Message ' + msg[1])\n",
    "        sys.exit()"
   ]
  }
 ],
 "metadata": {
  "anaconda-cloud": {},
  "kernelspec": {
   "display_name": "Python [default]",
   "language": "python",
   "name": "python3"
  },
  "language_info": {
   "codemirror_mode": {
    "name": "ipython",
    "version": 3
   },
   "file_extension": ".py",
   "mimetype": "text/x-python",
   "name": "python",
   "nbconvert_exporter": "python",
   "pygments_lexer": "ipython3",
   "version": "3.5.2"
  }
 },
 "nbformat": 4,
 "nbformat_minor": 2
}
