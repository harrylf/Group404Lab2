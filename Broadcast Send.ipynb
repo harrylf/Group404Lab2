{
 "cells": [
  {
   "cell_type": "code",
   "execution_count": 1,
   "metadata": {},
   "outputs": [
    {
     "data": {
      "text/plain": [
       "13"
      ]
     },
     "execution_count": 1,
     "metadata": {},
     "output_type": "execute_result"
    }
   ],
   "source": [
    "from socket import *\n",
    "MESSAGE = \"Hello, World!\"\n",
    "s=socket(AF_INET, SOCK_DGRAM)\n",
    "s.setsockopt(SOL_SOCKET, SO_BROADCAST, 1)\n",
    "s.sendto(bytes(MESSAGE, \"utf-8\"), ('255.255.255.255', 12345))"
   ]
  }
 ],
 "metadata": {
  "kernelspec": {
   "display_name": "Python 3",
   "language": "python",
   "name": "python3"
  },
  "language_info": {
   "codemirror_mode": {
    "name": "ipython",
    "version": 3
   },
   "file_extension": ".py",
   "mimetype": "text/x-python",
   "name": "python",
   "nbconvert_exporter": "python",
   "pygments_lexer": "ipython3",
   "version": "3.6.3"
  }
 },
 "nbformat": 4,
 "nbformat_minor": 2
}
